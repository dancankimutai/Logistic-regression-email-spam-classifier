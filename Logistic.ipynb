{
  "nbformat": 4,
  "nbformat_minor": 0,
  "metadata": {
    "colab": {
      "provenance": [],
      "authorship_tag": "ABX9TyO84p3FsStuhtUn2d/YzsBY",
      "include_colab_link": true
    },
    "kernelspec": {
      "name": "python3",
      "display_name": "Python 3"
    },
    "language_info": {
      "name": "python"
    }
  },
  "cells": [
    {
      "cell_type": "markdown",
      "metadata": {
        "id": "view-in-github",
        "colab_type": "text"
      },
      "source": [
        "<a href=\"https://colab.research.google.com/github/dancankimutai/Logistic-regression-email-spam-classifier/blob/main/Logistic.ipynb\" target=\"_parent\"><img src=\"https://colab.research.google.com/assets/colab-badge.svg\" alt=\"Open In Colab\"/></a>"
      ]
    },
    {
      "cell_type": "code",
      "source": [
        "#  import necessary libraries,mount Google Drive and read in email data from a CSV file\n",
        "from google.colab import drive\n",
        "drive.mount('/content/drive')\n",
        "import pandas as pd\n",
        "import numpy as np\n",
        "from sklearn.linear_model import LogisticRegression\n",
        "import matplotlib.pyplot as plt\n",
        "from sklearn.model_selection import train_test_split\n",
        "\n",
        "data=pd.read_csv('/content/drive/My Drive/csvfile/emails.csv')\n"
      ],
      "metadata": {
        "colab": {
          "base_uri": "https://localhost:8080/"
        },
        "id": "MW1cV72S3NJ3",
        "outputId": "10f781a7-6356-41c4-dc64-77b7e55b299a"
      },
      "execution_count": 75,
      "outputs": [
        {
          "output_type": "stream",
          "name": "stdout",
          "text": [
            "Drive already mounted at /content/drive; to attempt to forcibly remount, call drive.mount(\"/content/drive\", force_remount=True).\n"
          ]
        }
      ]
    },
    {
      "cell_type": "code",
      "source": [
        "data.head\n"
      ],
      "metadata": {
        "colab": {
          "base_uri": "https://localhost:8080/"
        },
        "id": "9gTWG0P8mWDC",
        "outputId": "510099d3-22df-4c19-81d0-faeffdc079bc"
      },
      "execution_count": 76,
      "outputs": [
        {
          "output_type": "execute_result",
          "data": {
            "text/plain": [
              "<bound method NDFrame.head of        Email No.  the  to  ect  and  for  of    a  you  hou  ...  connevey  \\\n",
              "0        Email 1    0   0    1    0    0   0    2    0    0  ...         0   \n",
              "1        Email 2    8  13   24    6    6   2  102    1   27  ...         0   \n",
              "2        Email 3    0   0    1    0    0   0    8    0    0  ...         0   \n",
              "3        Email 4    0   5   22    0    5   1   51    2   10  ...         0   \n",
              "4        Email 5    7   6   17    1    5   2   57    0    9  ...         0   \n",
              "...          ...  ...  ..  ...  ...  ...  ..  ...  ...  ...  ...       ...   \n",
              "5167  Email 5168    2   2    2    3    0   0   32    0    0  ...         0   \n",
              "5168  Email 5169   35  27   11    2    6   5  151    4    3  ...         0   \n",
              "5169  Email 5170    0   0    1    1    0   0   11    0    0  ...         0   \n",
              "5170  Email 5171    2   7    1    0    2   1   28    2    0  ...         0   \n",
              "5171  Email 5172   22  24    5    1    6   5  148    8    2  ...         0   \n",
              "\n",
              "      jay  valued  lay  infrastructure  military  allowing  ff  dry  \\\n",
              "0       0       0    0               0         0         0   0    0   \n",
              "1       0       0    0               0         0         0   1    0   \n",
              "2       0       0    0               0         0         0   0    0   \n",
              "3       0       0    0               0         0         0   0    0   \n",
              "4       0       0    0               0         0         0   1    0   \n",
              "...   ...     ...  ...             ...       ...       ...  ..  ...   \n",
              "5167    0       0    0               0         0         0   0    0   \n",
              "5168    0       0    0               0         0         0   1    0   \n",
              "5169    0       0    0               0         0         0   0    0   \n",
              "5170    0       0    0               0         0         0   1    0   \n",
              "5171    0       0    0               0         0         0   0    0   \n",
              "\n",
              "      Prediction  \n",
              "0              0  \n",
              "1              0  \n",
              "2              0  \n",
              "3              0  \n",
              "4              0  \n",
              "...          ...  \n",
              "5167           0  \n",
              "5168           0  \n",
              "5169           1  \n",
              "5170           1  \n",
              "5171           0  \n",
              "\n",
              "[5172 rows x 3002 columns]>"
            ]
          },
          "metadata": {},
          "execution_count": 76
        }
      ]
    },
    {
      "cell_type": "code",
      "source": [
        "# extract the values from the DataFrame using the DataFrame.iloc method\n",
        "\n",
        "# the : symbol indicates that all rows should be selected\n",
        "# the 1:-1 part specifies that only the columns with indices 1/2nd column to the second-last column should be selected\n",
        "X = data.iloc[:, 1:-1].values\n",
        "# select the last column in the DataFrame and assign it to the variable y\n",
        "y = data.iloc[:, -1].values\n"
      ],
      "metadata": {
        "id": "X3kpPM9cdRug"
      },
      "execution_count": 77,
      "outputs": []
    },
    {
      "cell_type": "code",
      "source": [
        "# split the data into training and test sets(30%)\n",
        "X_train, X_test, y_train, y_test = train_test_split(X, y, test_size=0.30, random_state=0)\n"
      ],
      "metadata": {
        "id": "BeGXJIDQdi0s"
      },
      "execution_count": 78,
      "outputs": []
    },
    {
      "cell_type": "code",
      "source": [
        "# train a logistic regression model on the training data\n",
        "lmodel = LogisticRegression(solver='liblinear')\n",
        "lmodel.fit(X_train,y_train)\n"
      ],
      "metadata": {
        "colab": {
          "base_uri": "https://localhost:8080/"
        },
        "id": "DgjtX7HJdmbc",
        "outputId": "e19a98a6-6540-4503-b94c-ea4aba52b159"
      },
      "execution_count": 79,
      "outputs": [
        {
          "output_type": "execute_result",
          "data": {
            "text/plain": [
              "LogisticRegression(solver='liblinear')"
            ]
          },
          "metadata": {},
          "execution_count": 79
        }
      ]
    },
    {
      "cell_type": "code",
      "source": [
        "from sklearn.metrics import plot_confusion_matrix,classification_report,plot_precision_recall_curve,plot_roc_curve\n"
      ],
      "metadata": {
        "id": "s-fT2ilNdsv9"
      },
      "execution_count": 80,
      "outputs": []
    },
    {
      "cell_type": "code",
      "source": [
        "#function that evaluates the performance of a logistic regression model\n",
        "def report(model):\n",
        "  # Generate predictions on the test set using the model\n",
        "    preds = model.predict(X_test)\n",
        "    # Print a classification report\n",
        "    print(classification_report(preds,y_test))\n",
        "    # Plot a confusion matrix\n",
        "    plot_confusion_matrix(model,X_test,y_test)\n",
        "    # Plot a precision-recall curve\n",
        "    plot_precision_recall_curve(model,X_test,y_test)\n",
        "    #plots a ROC curve, which shows the relationship between the true positive rate and the false positive rate for different threshold values\n",
        "    plot_roc_curve(model,X_test,y_test)\n"
      ],
      "metadata": {
        "id": "lds6_INydtCY"
      },
      "execution_count": 81,
      "outputs": []
    },
    {
      "cell_type": "code",
      "source": [
        "print(\"LOGISTIC REGRESSION MODEL\")\n",
        "report(lmodel)"
      ],
      "metadata": {
        "colab": {
          "base_uri": "https://localhost:8080/",
          "height": 977
        },
        "id": "9XeELayteOWt",
        "outputId": "7223d4e7-6910-4a0c-ac0a-ae656485e638"
      },
      "execution_count": 82,
      "outputs": [
        {
          "output_type": "stream",
          "name": "stdout",
          "text": [
            "LOGISTIC REGRESSION MODEL\n",
            "              precision    recall  f1-score   support\n",
            "\n",
            "           0       0.97      0.98      0.98      1099\n",
            "           1       0.96      0.94      0.95       453\n",
            "\n",
            "    accuracy                           0.97      1552\n",
            "   macro avg       0.97      0.96      0.96      1552\n",
            "weighted avg       0.97      0.97      0.97      1552\n",
            "\n"
          ]
        },
        {
          "output_type": "display_data",
          "data": {
            "text/plain": [
              "<Figure size 432x288 with 2 Axes>"
            ],
            "image/png": "[encoded data removed]"
          },
          "metadata": {
            "needs_background": "light"
          }
        },
        {
          "output_type": "display_data",
          "data": {
            "text/plain": [
              "<Figure size 432x288 with 1 Axes>"
            ],
            "image/png": "[encoded data removed]"
          },
          "metadata": {
            "needs_background": "light"
          }
        },
        {
          "output_type": "display_data",
          "data": {
            "text/plain": [
              "<Figure size 432x288 with 1 Axes>"
            ],
            "image/png": "[encoded data removed]"
          },
          "metadata": {
            "needs_background": "light"
          }
        }
      ]
    }
  ]
}